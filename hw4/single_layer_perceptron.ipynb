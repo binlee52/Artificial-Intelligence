{
 "cells": [
  {
   "cell_type": "markdown",
   "metadata": {
    "id": "KTpYD2qcLDTo"
   },
   "source": [
    "### Load Data"
   ]
  },
  {
   "cell_type": "code",
   "execution_count": 1,
   "metadata": {
    "executionInfo": {
     "elapsed": 513,
     "status": "ok",
     "timestamp": 1607092711920,
     "user": {
      "displayName": "이한빈",
      "photoUrl": "https://lh3.googleusercontent.com/a-/AOh14GjvVlO5Se1a47Me7EsLqefBhceKxK7670bG_54-=s64",
      "userId": "07171523879650801742"
     },
     "user_tz": -540
    },
    "id": "IwPma_UPLDTp"
   },
   "outputs": [],
   "source": [
    "import numpy as np\n",
    "import pandas as pd\n",
    "import matplotlib.pyplot as plt"
   ]
  },
  {
   "cell_type": "code",
   "execution_count": 2,
   "metadata": {
    "executionInfo": {
     "elapsed": 1455,
     "status": "ok",
     "timestamp": 1607092713243,
     "user": {
      "displayName": "이한빈",
      "photoUrl": "https://lh3.googleusercontent.com/a-/AOh14GjvVlO5Se1a47Me7EsLqefBhceKxK7670bG_54-=s64",
      "userId": "07171523879650801742"
     },
     "user_tz": -540
    },
    "id": "YwkFDm7QLDTp"
   },
   "outputs": [],
   "source": [
    "from slpSGD import load_data"
   ]
  },
  {
   "cell_type": "code",
   "execution_count": 3,
   "metadata": {
    "executionInfo": {
     "elapsed": 1128,
     "status": "ok",
     "timestamp": 1607092714761,
     "user": {
      "displayName": "이한빈",
      "photoUrl": "https://lh3.googleusercontent.com/a-/AOh14GjvVlO5Se1a47Me7EsLqefBhceKxK7670bG_54-=s64",
      "userId": "07171523879650801742"
     },
     "user_tz": -540
    },
    "id": "khpRG0xALDTp"
   },
   "outputs": [],
   "source": [
    "train_csv_path = 'normalized_diabetes_train.csv'\n",
    "test_csv_path = 'normalized_diabetes_test.csv'\n",
    "df_train = pd.read_csv(train_csv_path)\n",
    "df_test = pd.read_csv(test_csv_path)"
   ]
  },
  {
   "cell_type": "code",
   "execution_count": 4,
   "metadata": {
    "colab": {
     "base_uri": "https://localhost:8080/",
     "height": 195
    },
    "executionInfo": {
     "elapsed": 490,
     "status": "ok",
     "timestamp": 1607092714764,
     "user": {
      "displayName": "이한빈",
      "photoUrl": "https://lh3.googleusercontent.com/a-/AOh14GjvVlO5Se1a47Me7EsLqefBhceKxK7670bG_54-=s64",
      "userId": "07171523879650801742"
     },
     "user_tz": -540
    },
    "id": "2KD4ouv1LDTp",
    "outputId": "f42bc504-faa8-47d3-c921-e784baea7ca5"
   },
   "outputs": [
    {
     "data": {
      "text/html": [
       "<div>\n",
       "<style scoped>\n",
       "    .dataframe tbody tr th:only-of-type {\n",
       "        vertical-align: middle;\n",
       "    }\n",
       "\n",
       "    .dataframe tbody tr th {\n",
       "        vertical-align: top;\n",
       "    }\n",
       "\n",
       "    .dataframe thead th {\n",
       "        text-align: right;\n",
       "    }\n",
       "</style>\n",
       "<table border=\"1\" class=\"dataframe\">\n",
       "  <thead>\n",
       "    <tr style=\"text-align: right;\">\n",
       "      <th></th>\n",
       "      <th>label</th>\n",
       "      <th>num_preg</th>\n",
       "      <th>PGC</th>\n",
       "      <th>DBP</th>\n",
       "      <th>tricept</th>\n",
       "      <th>insulin</th>\n",
       "      <th>BMI</th>\n",
       "      <th>ped_func</th>\n",
       "      <th>age</th>\n",
       "    </tr>\n",
       "  </thead>\n",
       "  <tbody>\n",
       "    <tr>\n",
       "      <th>0</th>\n",
       "      <td>1</td>\n",
       "      <td>0.470588</td>\n",
       "      <td>0.758794</td>\n",
       "      <td>0.639344</td>\n",
       "      <td>0.507937</td>\n",
       "      <td>0.35</td>\n",
       "      <td>0.639344</td>\n",
       "      <td>0.187020</td>\n",
       "      <td>0.250000</td>\n",
       "    </tr>\n",
       "    <tr>\n",
       "      <th>1</th>\n",
       "      <td>1</td>\n",
       "      <td>0.235294</td>\n",
       "      <td>0.663317</td>\n",
       "      <td>0.000000</td>\n",
       "      <td>0.000000</td>\n",
       "      <td>0.00</td>\n",
       "      <td>0.490313</td>\n",
       "      <td>0.095645</td>\n",
       "      <td>0.033333</td>\n",
       "    </tr>\n",
       "    <tr>\n",
       "      <th>2</th>\n",
       "      <td>0</td>\n",
       "      <td>0.058824</td>\n",
       "      <td>0.467337</td>\n",
       "      <td>0.459016</td>\n",
       "      <td>0.174603</td>\n",
       "      <td>0.00</td>\n",
       "      <td>0.335320</td>\n",
       "      <td>0.144748</td>\n",
       "      <td>0.016667</td>\n",
       "    </tr>\n",
       "    <tr>\n",
       "      <th>3</th>\n",
       "      <td>0</td>\n",
       "      <td>0.058824</td>\n",
       "      <td>0.547739</td>\n",
       "      <td>0.311475</td>\n",
       "      <td>0.285714</td>\n",
       "      <td>0.20</td>\n",
       "      <td>0.344262</td>\n",
       "      <td>0.140478</td>\n",
       "      <td>0.083333</td>\n",
       "    </tr>\n",
       "    <tr>\n",
       "      <th>4</th>\n",
       "      <td>1</td>\n",
       "      <td>0.176471</td>\n",
       "      <td>0.869347</td>\n",
       "      <td>0.688525</td>\n",
       "      <td>0.523810</td>\n",
       "      <td>0.79</td>\n",
       "      <td>0.532042</td>\n",
       "      <td>0.076857</td>\n",
       "      <td>0.016667</td>\n",
       "    </tr>\n",
       "  </tbody>\n",
       "</table>\n",
       "</div>"
      ],
      "text/plain": [
       "   label  num_preg       PGC       DBP   tricept  insulin       BMI  ped_func  \\\n",
       "0      1  0.470588  0.758794  0.639344  0.507937     0.35  0.639344  0.187020   \n",
       "1      1  0.235294  0.663317  0.000000  0.000000     0.00  0.490313  0.095645   \n",
       "2      0  0.058824  0.467337  0.459016  0.174603     0.00  0.335320  0.144748   \n",
       "3      0  0.058824  0.547739  0.311475  0.285714     0.20  0.344262  0.140478   \n",
       "4      1  0.176471  0.869347  0.688525  0.523810     0.79  0.532042  0.076857   \n",
       "\n",
       "        age  \n",
       "0  0.250000  \n",
       "1  0.033333  \n",
       "2  0.016667  \n",
       "3  0.083333  \n",
       "4  0.016667  "
      ]
     },
     "execution_count": 4,
     "metadata": {},
     "output_type": "execute_result"
    }
   ],
   "source": [
    "df_train.head()"
   ]
  },
  {
   "cell_type": "code",
   "execution_count": 5,
   "metadata": {
    "executionInfo": {
     "elapsed": 1085,
     "status": "ok",
     "timestamp": 1607092716025,
     "user": {
      "displayName": "이한빈",
      "photoUrl": "https://lh3.googleusercontent.com/a-/AOh14GjvVlO5Se1a47Me7EsLqefBhceKxK7670bG_54-=s64",
      "userId": "07171523879650801742"
     },
     "user_tz": -540
    },
    "id": "oNlZQWWSLDTp"
   },
   "outputs": [],
   "source": [
    "X_train, y_train = load_data(df_train)\n",
    "X_test, y_test = load_data(df_test)"
   ]
  },
  {
   "cell_type": "code",
   "execution_count": 6,
   "metadata": {
    "colab": {
     "base_uri": "https://localhost:8080/"
    },
    "executionInfo": {
     "elapsed": 780,
     "status": "ok",
     "timestamp": 1607092716335,
     "user": {
      "displayName": "이한빈",
      "photoUrl": "https://lh3.googleusercontent.com/a-/AOh14GjvVlO5Se1a47Me7EsLqefBhceKxK7670bG_54-=s64",
      "userId": "07171523879650801742"
     },
     "user_tz": -540
    },
    "id": "lRjKH3T9LDTp",
    "outputId": "e8ec582a-b7ad-4a93-87e2-4ddaf4d9de40"
   },
   "outputs": [
    {
     "data": {
      "text/plain": [
       "(500, 9)"
      ]
     },
     "execution_count": 6,
     "metadata": {},
     "output_type": "execute_result"
    }
   ],
   "source": [
    "X_train.shape"
   ]
  },
  {
   "cell_type": "code",
   "execution_count": 7,
   "metadata": {
    "colab": {
     "base_uri": "https://localhost:8080/"
    },
    "executionInfo": {
     "elapsed": 594,
     "status": "ok",
     "timestamp": 1607092716754,
     "user": {
      "displayName": "이한빈",
      "photoUrl": "https://lh3.googleusercontent.com/a-/AOh14GjvVlO5Se1a47Me7EsLqefBhceKxK7670bG_54-=s64",
      "userId": "07171523879650801742"
     },
     "user_tz": -540
    },
    "id": "eoZPCrU8LDTq",
    "outputId": "3bcd9cd7-e1db-41e0-a6f8-c7ad4a7d0512"
   },
   "outputs": [
    {
     "data": {
      "text/plain": [
       "array([[1.        , 0.47058824, 0.75879397, 0.63934426, 0.50793651,\n",
       "        0.35      , 0.63934426, 0.18701964, 0.25      ],\n",
       "       [1.        , 0.23529412, 0.66331658, 0.        , 0.        ,\n",
       "        0.        , 0.49031297, 0.09564475, 0.03333333],\n",
       "       [1.        , 0.05882353, 0.46733668, 0.45901639, 0.17460317,\n",
       "        0.        , 0.33532042, 0.14474808, 0.01666667],\n",
       "       [1.        , 0.05882353, 0.54773869, 0.31147541, 0.28571429,\n",
       "        0.2       , 0.34426229, 0.14047822, 0.08333333],\n",
       "       [1.        , 0.17647059, 0.86934673, 0.68852459, 0.52380952,\n",
       "        0.79      , 0.53204173, 0.07685739, 0.01666667]])"
      ]
     },
     "execution_count": 7,
     "metadata": {},
     "output_type": "execute_result"
    }
   ],
   "source": [
    "X_train[0:5]"
   ]
  },
  {
   "cell_type": "code",
   "execution_count": 8,
   "metadata": {
    "colab": {
     "base_uri": "https://localhost:8080/"
    },
    "executionInfo": {
     "elapsed": 637,
     "status": "ok",
     "timestamp": 1607092717504,
     "user": {
      "displayName": "이한빈",
      "photoUrl": "https://lh3.googleusercontent.com/a-/AOh14GjvVlO5Se1a47Me7EsLqefBhceKxK7670bG_54-=s64",
      "userId": "07171523879650801742"
     },
     "user_tz": -540
    },
    "id": "k0DcthCPLDTq",
    "outputId": "94638328-50ad-4317-a378-4f73960357b3"
   },
   "outputs": [
    {
     "data": {
      "text/plain": [
       "(500,)"
      ]
     },
     "execution_count": 8,
     "metadata": {},
     "output_type": "execute_result"
    }
   ],
   "source": [
    "y_train.shape"
   ]
  },
  {
   "cell_type": "code",
   "execution_count": 9,
   "metadata": {
    "colab": {
     "base_uri": "https://localhost:8080/"
    },
    "executionInfo": {
     "elapsed": 847,
     "status": "ok",
     "timestamp": 1607092718528,
     "user": {
      "displayName": "이한빈",
      "photoUrl": "https://lh3.googleusercontent.com/a-/AOh14GjvVlO5Se1a47Me7EsLqefBhceKxK7670bG_54-=s64",
      "userId": "07171523879650801742"
     },
     "user_tz": -540
    },
    "id": "P9vzTywoLDTq",
    "outputId": "eeb0c727-7168-45e2-c11c-a3319b5bbc9b"
   },
   "outputs": [
    {
     "data": {
      "text/plain": [
       "array([1., 1., 0., 0., 1.])"
      ]
     },
     "execution_count": 9,
     "metadata": {},
     "output_type": "execute_result"
    }
   ],
   "source": [
    "y_train[0:5]"
   ]
  },
  {
   "cell_type": "markdown",
   "metadata": {
    "id": "PRdwXXk6LDTq"
   },
   "source": [
    "### Plot sigmoid"
   ]
  },
  {
   "cell_type": "code",
   "execution_count": 10,
   "metadata": {
    "executionInfo": {
     "elapsed": 711,
     "status": "ok",
     "timestamp": 1607092719977,
     "user": {
      "displayName": "이한빈",
      "photoUrl": "https://lh3.googleusercontent.com/a-/AOh14GjvVlO5Se1a47Me7EsLqefBhceKxK7670bG_54-=s64",
      "userId": "07171523879650801742"
     },
     "user_tz": -540
    },
    "id": "M-1hTdN4LDTq"
   },
   "outputs": [],
   "source": [
    "from slpSGD import sigmoid"
   ]
  },
  {
   "cell_type": "code",
   "execution_count": 11,
   "metadata": {
    "colab": {
     "base_uri": "https://localhost:8080/",
     "height": 281
    },
    "executionInfo": {
     "elapsed": 1675,
     "status": "ok",
     "timestamp": 1607092721914,
     "user": {
      "displayName": "이한빈",
      "photoUrl": "https://lh3.googleusercontent.com/a-/AOh14GjvVlO5Se1a47Me7EsLqefBhceKxK7670bG_54-=s64",
      "userId": "07171523879650801742"
     },
     "user_tz": -540
    },
    "id": "g5ybA4PyLDTq",
    "outputId": "4a5605d4-5096-4cae-decb-9aa0f9ca3834",
    "scrolled": true
   },
   "outputs": [
    {
     "data": {
      "image/png": "[encoded data removed]",
      "text/plain": [
       "<Figure size 432x288 with 1 Axes>"
      ]
     },
     "metadata": {
      "needs_background": "light"
     },
     "output_type": "display_data"
    }
   ],
   "source": [
    "x = np.arange(-10, 10, 0.1)\n",
    "y = sigmoid(x)\n",
    "\n",
    "plt.plot(x, y)\n",
    "plt.title('Sigmoid Function')\n",
    "plt.show()"
   ]
  },
  {
   "cell_type": "markdown",
   "metadata": {
    "id": "LZKO-1lMLDTq"
   },
   "source": [
    "### Training single layer neural net with SGD "
   ]
  },
  {
   "cell_type": "code",
   "execution_count": 12,
   "metadata": {
    "executionInfo": {
     "elapsed": 588,
     "status": "ok",
     "timestamp": 1607092727518,
     "user": {
      "displayName": "이한빈",
      "photoUrl": "https://lh3.googleusercontent.com/a-/AOh14GjvVlO5Se1a47Me7EsLqefBhceKxK7670bG_54-=s64",
      "userId": "07171523879650801742"
     },
     "user_tz": -540
    },
    "id": "Hlx5UM2mLDTq"
   },
   "outputs": [],
   "source": [
    "from slpSGD import SLPerceptron"
   ]
  },
  {
   "cell_type": "code",
   "execution_count": 13,
   "metadata": {
    "executionInfo": {
     "elapsed": 726,
     "status": "ok",
     "timestamp": 1607092728783,
     "user": {
      "displayName": "이한빈",
      "photoUrl": "https://lh3.googleusercontent.com/a-/AOh14GjvVlO5Se1a47Me7EsLqefBhceKxK7670bG_54-=s64",
      "userId": "07171523879650801742"
     },
     "user_tz": -540
    },
    "id": "iGj-m5CWLDTq"
   },
   "outputs": [],
   "source": [
    "iterations = 100000\n",
    "rate = 0.1"
   ]
  },
  {
   "cell_type": "code",
   "execution_count": 14,
   "metadata": {
    "colab": {
     "base_uri": "https://localhost:8080/",
     "height": 339
    },
    "executionInfo": {
     "elapsed": 712,
     "status": "error",
     "timestamp": 1607092730018,
     "user": {
      "displayName": "이한빈",
      "photoUrl": "https://lh3.googleusercontent.com/a-/AOh14GjvVlO5Se1a47Me7EsLqefBhceKxK7670bG_54-=s64",
      "userId": "07171523879650801742"
     },
     "user_tz": -540
    },
    "id": "ErwPBer2LDTq",
    "outputId": "13b56063-fe56-457e-aca4-c4fee9ea2dd5"
   },
   "outputs": [],
   "source": [
    "slp = SLPerceptron(rate, iterations)\n",
    "w = slp.fit(X_train, y_train)"
   ]
  },
  {
   "cell_type": "code",
   "execution_count": 15,
   "metadata": {
    "id": "MJA2KGXmLDTq"
   },
   "outputs": [
    {
     "name": "stdout",
     "output_type": "stream",
     "text": [
      "[-8.22808548  2.88145779  7.90979069 -1.1523313  -0.66394206 -0.49747614\n",
      "  5.15199493  3.10317032 -0.42733111]\n"
     ]
    }
   ],
   "source": [
    "print(w)"
   ]
  },
  {
   "cell_type": "markdown",
   "metadata": {
    "id": "XyacR0j0LDTr"
   },
   "source": [
    "### Plot training error (average MSE for each epoch)"
   ]
  },
  {
   "cell_type": "code",
   "execution_count": 16,
   "metadata": {
    "id": "NDcnaSeoLDTr"
   },
   "outputs": [
    {
     "data": {
      "image/png": "[encoded data removed]",
      "text/plain": [
       "<Figure size 432x288 with 1 Axes>"
      ]
     },
     "metadata": {
      "needs_background": "light"
     },
     "output_type": "display_data"
    }
   ],
   "source": [
    "# plot average error over the number of iteration \n",
    "plt.plot(np.arange(len(slp.losses)), slp.losses)\n",
    "\n",
    "plt.title('MSE on training set')\n",
    "plt.xlabel('Epoch')\n",
    "plt.ylabel('MSE')\n",
    "plt.show()"
   ]
  },
  {
   "cell_type": "markdown",
   "metadata": {
    "id": "WVg-2jnOLDTr"
   },
   "source": [
    "### Training and test accuracy"
   ]
  },
  {
   "cell_type": "code",
   "execution_count": 17,
   "metadata": {
    "id": "z519TxaGLDTr"
   },
   "outputs": [
    {
     "name": "stdout",
     "output_type": "stream",
     "text": [
      "0.806\n"
     ]
    }
   ],
   "source": [
    "accuracy = slp.get_accuracy(X_train, y_train, w)\n",
    "print(accuracy)"
   ]
  },
  {
   "cell_type": "code",
   "execution_count": 18,
   "metadata": {
    "id": "4QcybXFZLDTr"
   },
   "outputs": [
    {
     "name": "stdout",
     "output_type": "stream",
     "text": [
      "0.74\n"
     ]
    }
   ],
   "source": [
    "accuracy = slp.get_accuracy(X_test, y_test, w)\n",
    "print(accuracy)"
   ]
  },
  {
   "cell_type": "markdown",
   "metadata": {
    "id": "db_KyamZLDTr"
   },
   "source": [
    "### Prediction using the model"
   ]
  },
  {
   "cell_type": "code",
   "execution_count": 19,
   "metadata": {
    "id": "HkhhHTksLDTr"
   },
   "outputs": [
    {
     "data": {
      "text/plain": [
       "array([1, 0, 1])"
      ]
     },
     "execution_count": 19,
     "metadata": {},
     "output_type": "execute_result"
    }
   ],
   "source": [
    "X_new = np.array([[1, 0.10, 0.93, 0.54, 0.49, 0.45, 0.61, 0.18, 0.15],\n",
    "                  [1, 0.12, 0.33, 0.55, 0.49, 0.11, 0.35, 0.07, 0.10],\n",
    "                  [1, 0.31, 0.85, 0.59, 0.20, 0.13, 0.72, 0.12, 0.15]])\n",
    "answer = slp.predict(X_new, w)\n",
    "answer"
   ]
  },
  {
   "cell_type": "code",
   "execution_count": null,
   "metadata": {},
   "outputs": [],
   "source": []
  }
 ],
 "metadata": {
  "accelerator": "GPU",
  "colab": {
   "name": "single_layer_perceptron.ipynb",
   "provenance": []
  },
  "kernelspec": {
   "display_name": "Python 3",
   "language": "python",
   "name": "python3"
  },
  "language_info": {
   "codemirror_mode": {
    "name": "ipython",
    "version": 3
   },
   "file_extension": ".py",
   "mimetype": "text/x-python",
   "name": "python",
   "nbconvert_exporter": "python",
   "pygments_lexer": "ipython3",
   "version": "3.7.6"
  }
 },
 "nbformat": 4,
 "nbformat_minor": 1
}
